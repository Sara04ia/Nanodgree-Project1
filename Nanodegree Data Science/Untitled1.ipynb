{
 "cells": [
  {
   "cell_type": "markdown",
   "id": "33959adc",
   "metadata": {},
   "source": [
    "# Project: Write a Data Science Blog Post\n",
    "## Section one : Goals Understanding \n",
    "My Project is Egypt High School Grades and here are the Questions that i will answer : \n",
    "### Q1 : How many students are in each major?\n",
    "### Q2 : What are the top 10 e students got heighest marks in Physics?\n",
    "### Q3 : what is The status of the students ? "
   ]
  },
  {
   "cell_type": "code",
   "execution_count": 31,
   "id": "5cfed9ea",
   "metadata": {},
   "outputs": [],
   "source": [
    "#import libraries\n",
    "import pandas as pd\n",
    "import matplotlib.pyplot as plt\n",
    "%matplotlib inline\n",
    "import plotly.express as px"
   ]
  },
  {
   "cell_type": "markdown",
   "id": "b00a2337",
   "metadata": {},
   "source": [
    "## Section Two : Understanding The data"
   ]
  },
  {
   "cell_type": "code",
   "execution_count": 32,
   "id": "b38968c6",
   "metadata": {},
   "outputs": [],
   "source": [
    "#import data\n",
    "df = pd.read_csv('student1.csv')"
   ]
  },
  {
   "cell_type": "code",
   "execution_count": 33,
   "id": "36d5c550",
   "metadata": {},
   "outputs": [
    {
     "data": {
      "text/plain": [
       "(149, 26)"
      ]
     },
     "execution_count": 33,
     "metadata": {},
     "output_type": "execute_result"
    }
   ],
   "source": [
    "#to find numbers of rows and columns\n",
    "df.shape"
   ]
  },
  {
   "cell_type": "code",
   "execution_count": 34,
   "id": "71bc792c",
   "metadata": {},
   "outputs": [
    {
     "name": "stdout",
     "output_type": "stream",
     "text": [
      "<class 'pandas.core.frame.DataFrame'>\n",
      "RangeIndex: 149 entries, 0 to 148\n",
      "Data columns (total 26 columns):\n",
      " #   Column                 Non-Null Count  Dtype  \n",
      "---  ------                 --------------  -----  \n",
      " 0   Unnamed: 0             149 non-null    int64  \n",
      " 1   SeatNumber             149 non-null    int64  \n",
      " 2   TotalGrades            149 non-null    float64\n",
      " 3   TotalPercentage        149 non-null    object \n",
      " 4   Name                   149 non-null    object \n",
      " 5   School                 149 non-null    object \n",
      " 6   EducationZone          149 non-null    object \n",
      " 7   Status                 149 non-null    object \n",
      " 8   EductionType           149 non-null    object \n",
      " 9   Department             149 non-null    object \n",
      " 10  Arabic                 149 non-null    int64  \n",
      " 11  FirstForeignLanguage   149 non-null    int64  \n",
      " 12  SecondForeignLanguage  149 non-null    object \n",
      " 13  DiscreteMath           55 non-null     float64\n",
      " 14  History                66 non-null     float64\n",
      " 15  Geography              66 non-null     float64\n",
      " 16  Philosophy             66 non-null     float64\n",
      " 17  ElmNafs                66 non-null     float64\n",
      " 18  Chemistry              83 non-null     float64\n",
      " 19  Biology                28 non-null     float64\n",
      " 20  Giology                28 non-null     float64\n",
      " 21  AppliedMath            55 non-null     float64\n",
      " 22  Physics                83 non-null     float64\n",
      " 23  Religion               149 non-null    object \n",
      " 24  Watnya                 149 non-null    object \n",
      " 25  Statistics             149 non-null    object \n",
      "dtypes: float64(11), int64(4), object(11)\n",
      "memory usage: 30.4+ KB\n"
     ]
    }
   ],
   "source": [
    "df.info()"
   ]
  },
  {
   "cell_type": "code",
   "execution_count": 35,
   "id": "867bd111",
   "metadata": {},
   "outputs": [
    {
     "data": {
      "text/html": [
       "<div>\n",
       "<style scoped>\n",
       "    .dataframe tbody tr th:only-of-type {\n",
       "        vertical-align: middle;\n",
       "    }\n",
       "\n",
       "    .dataframe tbody tr th {\n",
       "        vertical-align: top;\n",
       "    }\n",
       "\n",
       "    .dataframe thead th {\n",
       "        text-align: right;\n",
       "    }\n",
       "</style>\n",
       "<table border=\"1\" class=\"dataframe\">\n",
       "  <thead>\n",
       "    <tr style=\"text-align: right;\">\n",
       "      <th></th>\n",
       "      <th>Unnamed: 0</th>\n",
       "      <th>SeatNumber</th>\n",
       "      <th>TotalGrades</th>\n",
       "      <th>TotalPercentage</th>\n",
       "      <th>Name</th>\n",
       "      <th>School</th>\n",
       "      <th>EducationZone</th>\n",
       "      <th>Status</th>\n",
       "      <th>EductionType</th>\n",
       "      <th>Department</th>\n",
       "      <th>...</th>\n",
       "      <th>Philosophy</th>\n",
       "      <th>ElmNafs</th>\n",
       "      <th>Chemistry</th>\n",
       "      <th>Biology</th>\n",
       "      <th>Giology</th>\n",
       "      <th>AppliedMath</th>\n",
       "      <th>Physics</th>\n",
       "      <th>Religion</th>\n",
       "      <th>Watnya</th>\n",
       "      <th>Statistics</th>\n",
       "    </tr>\n",
       "  </thead>\n",
       "  <tbody>\n",
       "    <tr>\n",
       "      <th>0</th>\n",
       "      <td>0</td>\n",
       "      <td>1020534</td>\n",
       "      <td>179.0</td>\n",
       "      <td>43.66 %</td>\n",
       "      <td>شهد محمود ابو العلا عواد</td>\n",
       "      <td>الاورمان ث بنات</td>\n",
       "      <td>الدقى</td>\n",
       "      <td>راسب</td>\n",
       "      <td>طلاب</td>\n",
       "      <td>علمي علوم</td>\n",
       "      <td>...</td>\n",
       "      <td>NaN</td>\n",
       "      <td>NaN</td>\n",
       "      <td>16.0</td>\n",
       "      <td>30.0</td>\n",
       "      <td>25.0</td>\n",
       "      <td>NaN</td>\n",
       "      <td>30.0</td>\n",
       "      <td>إجتياز</td>\n",
       "      <td>إجتياز</td>\n",
       "      <td>إجتياز</td>\n",
       "    </tr>\n",
       "  </tbody>\n",
       "</table>\n",
       "<p>1 rows × 26 columns</p>\n",
       "</div>"
      ],
      "text/plain": [
       "   Unnamed: 0  SeatNumber  TotalGrades TotalPercentage  \\\n",
       "0           0     1020534        179.0         43.66 %   \n",
       "\n",
       "                       Name           School EducationZone Status  \\\n",
       "0  شهد محمود ابو العلا عواد  الاورمان ث بنات         الدقى   راسب   \n",
       "\n",
       "  EductionType Department  ...  Philosophy  ElmNafs Chemistry  Biology  \\\n",
       "0         طلاب  علمي علوم  ...         NaN      NaN      16.0     30.0   \n",
       "\n",
       "   Giology  AppliedMath  Physics  Religion  Watnya  Statistics  \n",
       "0     25.0          NaN     30.0    إجتياز  إجتياز      إجتياز  \n",
       "\n",
       "[1 rows x 26 columns]"
      ]
     },
     "execution_count": 35,
     "metadata": {},
     "output_type": "execute_result"
    }
   ],
   "source": [
    "df.head(1)"
   ]
  },
  {
   "cell_type": "markdown",
   "id": "e7dec965",
   "metadata": {},
   "source": [
    "## Section 3: Data prepration"
   ]
  },
  {
   "cell_type": "code",
   "execution_count": 36,
   "id": "b44a0b35",
   "metadata": {},
   "outputs": [
    {
     "data": {
      "text/plain": [
       "Unnamed: 0                 0\n",
       "SeatNumber                 0\n",
       "TotalGrades                0\n",
       "TotalPercentage            0\n",
       "Name                       0\n",
       "School                     0\n",
       "EducationZone              0\n",
       "Status                     0\n",
       "EductionType               0\n",
       "Department                 0\n",
       "Arabic                     0\n",
       "FirstForeignLanguage       0\n",
       "SecondForeignLanguage      0\n",
       "DiscreteMath              94\n",
       "History                   83\n",
       "Geography                 83\n",
       "Philosophy                83\n",
       "ElmNafs                   83\n",
       "Chemistry                 66\n",
       "Biology                  121\n",
       "Giology                  121\n",
       "AppliedMath               94\n",
       "Physics                   66\n",
       "Religion                   0\n",
       "Watnya                     0\n",
       "Statistics                 0\n",
       "dtype: int64"
      ]
     },
     "execution_count": 36,
     "metadata": {},
     "output_type": "execute_result"
    }
   ],
   "source": [
    "#to see if there is any missing values\n",
    "df.isna().sum()"
   ]
  },
  {
   "cell_type": "code",
   "execution_count": 37,
   "id": "5f085ee0",
   "metadata": {},
   "outputs": [],
   "source": [
    "df = df.fillna(df.mean())"
   ]
  },
  {
   "cell_type": "code",
   "execution_count": 38,
   "id": "987a6dcb",
   "metadata": {},
   "outputs": [
    {
     "data": {
      "text/plain": [
       "Unnamed: 0               0\n",
       "SeatNumber               0\n",
       "TotalGrades              0\n",
       "TotalPercentage          0\n",
       "Name                     0\n",
       "School                   0\n",
       "EducationZone            0\n",
       "Status                   0\n",
       "EductionType             0\n",
       "Department               0\n",
       "Arabic                   0\n",
       "FirstForeignLanguage     0\n",
       "SecondForeignLanguage    0\n",
       "DiscreteMath             0\n",
       "History                  0\n",
       "Geography                0\n",
       "Philosophy               0\n",
       "ElmNafs                  0\n",
       "Chemistry                0\n",
       "Biology                  0\n",
       "Giology                  0\n",
       "AppliedMath              0\n",
       "Physics                  0\n",
       "Religion                 0\n",
       "Watnya                   0\n",
       "Statistics               0\n",
       "dtype: int64"
      ]
     },
     "execution_count": 38,
     "metadata": {},
     "output_type": "execute_result"
    }
   ],
   "source": [
    "df.isna().sum()"
   ]
  },
  {
   "cell_type": "code",
   "execution_count": 39,
   "id": "221675ce",
   "metadata": {},
   "outputs": [
    {
     "data": {
      "text/plain": [
       "0"
      ]
     },
     "execution_count": 39,
     "metadata": {},
     "output_type": "execute_result"
    }
   ],
   "source": [
    "sum(df.duplicated())"
   ]
  },
  {
   "cell_type": "code",
   "execution_count": 40,
   "id": "1e140cef",
   "metadata": {},
   "outputs": [
    {
     "data": {
      "text/html": [
       "<div>\n",
       "<style scoped>\n",
       "    .dataframe tbody tr th:only-of-type {\n",
       "        vertical-align: middle;\n",
       "    }\n",
       "\n",
       "    .dataframe tbody tr th {\n",
       "        vertical-align: top;\n",
       "    }\n",
       "\n",
       "    .dataframe thead th {\n",
       "        text-align: right;\n",
       "    }\n",
       "</style>\n",
       "<table border=\"1\" class=\"dataframe\">\n",
       "  <thead>\n",
       "    <tr style=\"text-align: right;\">\n",
       "      <th></th>\n",
       "      <th>Unnamed: 0</th>\n",
       "      <th>SeatNumber</th>\n",
       "      <th>TotalGrades</th>\n",
       "      <th>Arabic</th>\n",
       "      <th>FirstForeignLanguage</th>\n",
       "      <th>DiscreteMath</th>\n",
       "      <th>History</th>\n",
       "      <th>Geography</th>\n",
       "      <th>Philosophy</th>\n",
       "      <th>ElmNafs</th>\n",
       "      <th>Chemistry</th>\n",
       "      <th>Biology</th>\n",
       "      <th>Giology</th>\n",
       "      <th>AppliedMath</th>\n",
       "      <th>Physics</th>\n",
       "    </tr>\n",
       "  </thead>\n",
       "  <tbody>\n",
       "    <tr>\n",
       "      <th>count</th>\n",
       "      <td>149.000000</td>\n",
       "      <td>1.490000e+02</td>\n",
       "      <td>149.000000</td>\n",
       "      <td>149.000000</td>\n",
       "      <td>149.000000</td>\n",
       "      <td>149.000000</td>\n",
       "      <td>149.000000</td>\n",
       "      <td>149.000000</td>\n",
       "      <td>149.000000</td>\n",
       "      <td>149.000000</td>\n",
       "      <td>149.000000</td>\n",
       "      <td>149.000000</td>\n",
       "      <td>149.000000</td>\n",
       "      <td>149.000000</td>\n",
       "      <td>149.000000</td>\n",
       "    </tr>\n",
       "    <tr>\n",
       "      <th>mean</th>\n",
       "      <td>74.000000</td>\n",
       "      <td>1.020609e+06</td>\n",
       "      <td>245.134228</td>\n",
       "      <td>49.375839</td>\n",
       "      <td>30.234899</td>\n",
       "      <td>30.618182</td>\n",
       "      <td>32.454545</td>\n",
       "      <td>33.757576</td>\n",
       "      <td>42.984848</td>\n",
       "      <td>37.257576</td>\n",
       "      <td>33.325301</td>\n",
       "      <td>38.000000</td>\n",
       "      <td>44.857143</td>\n",
       "      <td>32.581818</td>\n",
       "      <td>31.457831</td>\n",
       "    </tr>\n",
       "    <tr>\n",
       "      <th>std</th>\n",
       "      <td>43.156691</td>\n",
       "      <td>4.401728e+01</td>\n",
       "      <td>51.087453</td>\n",
       "      <td>9.989506</td>\n",
       "      <td>8.658217</td>\n",
       "      <td>7.396576</td>\n",
       "      <td>6.959518</td>\n",
       "      <td>4.821210</td>\n",
       "      <td>5.397062</td>\n",
       "      <td>5.575417</td>\n",
       "      <td>6.856747</td>\n",
       "      <td>3.947288</td>\n",
       "      <td>3.800274</td>\n",
       "      <td>5.770019</td>\n",
       "      <td>7.938362</td>\n",
       "    </tr>\n",
       "    <tr>\n",
       "      <th>min</th>\n",
       "      <td>0.000000</td>\n",
       "      <td>1.020534e+06</td>\n",
       "      <td>117.000000</td>\n",
       "      <td>20.000000</td>\n",
       "      <td>11.000000</td>\n",
       "      <td>10.000000</td>\n",
       "      <td>10.000000</td>\n",
       "      <td>14.000000</td>\n",
       "      <td>17.000000</td>\n",
       "      <td>16.000000</td>\n",
       "      <td>15.000000</td>\n",
       "      <td>18.000000</td>\n",
       "      <td>25.000000</td>\n",
       "      <td>15.000000</td>\n",
       "      <td>11.000000</td>\n",
       "    </tr>\n",
       "    <tr>\n",
       "      <th>25%</th>\n",
       "      <td>37.000000</td>\n",
       "      <td>1.020571e+06</td>\n",
       "      <td>214.000000</td>\n",
       "      <td>41.000000</td>\n",
       "      <td>25.000000</td>\n",
       "      <td>30.618182</td>\n",
       "      <td>32.454545</td>\n",
       "      <td>33.757576</td>\n",
       "      <td>42.984848</td>\n",
       "      <td>37.257576</td>\n",
       "      <td>30.000000</td>\n",
       "      <td>38.000000</td>\n",
       "      <td>44.857143</td>\n",
       "      <td>32.581818</td>\n",
       "      <td>30.000000</td>\n",
       "    </tr>\n",
       "    <tr>\n",
       "      <th>50%</th>\n",
       "      <td>74.000000</td>\n",
       "      <td>1.020608e+06</td>\n",
       "      <td>244.000000</td>\n",
       "      <td>47.000000</td>\n",
       "      <td>28.000000</td>\n",
       "      <td>30.618182</td>\n",
       "      <td>32.454545</td>\n",
       "      <td>33.757576</td>\n",
       "      <td>42.984848</td>\n",
       "      <td>37.257576</td>\n",
       "      <td>33.325301</td>\n",
       "      <td>38.000000</td>\n",
       "      <td>44.857143</td>\n",
       "      <td>32.581818</td>\n",
       "      <td>31.457831</td>\n",
       "    </tr>\n",
       "    <tr>\n",
       "      <th>75%</th>\n",
       "      <td>111.000000</td>\n",
       "      <td>1.020647e+06</td>\n",
       "      <td>273.000000</td>\n",
       "      <td>56.000000</td>\n",
       "      <td>37.000000</td>\n",
       "      <td>30.618182</td>\n",
       "      <td>32.454545</td>\n",
       "      <td>33.757576</td>\n",
       "      <td>42.984848</td>\n",
       "      <td>38.000000</td>\n",
       "      <td>33.325301</td>\n",
       "      <td>38.000000</td>\n",
       "      <td>44.857143</td>\n",
       "      <td>32.581818</td>\n",
       "      <td>31.457831</td>\n",
       "    </tr>\n",
       "    <tr>\n",
       "      <th>max</th>\n",
       "      <td>148.000000</td>\n",
       "      <td>1.020684e+06</td>\n",
       "      <td>376.000000</td>\n",
       "      <td>75.000000</td>\n",
       "      <td>49.000000</td>\n",
       "      <td>57.000000</td>\n",
       "      <td>57.000000</td>\n",
       "      <td>51.000000</td>\n",
       "      <td>59.000000</td>\n",
       "      <td>50.000000</td>\n",
       "      <td>56.000000</td>\n",
       "      <td>55.000000</td>\n",
       "      <td>59.000000</td>\n",
       "      <td>56.000000</td>\n",
       "      <td>59.000000</td>\n",
       "    </tr>\n",
       "  </tbody>\n",
       "</table>\n",
       "</div>"
      ],
      "text/plain": [
       "       Unnamed: 0    SeatNumber  TotalGrades      Arabic  \\\n",
       "count  149.000000  1.490000e+02   149.000000  149.000000   \n",
       "mean    74.000000  1.020609e+06   245.134228   49.375839   \n",
       "std     43.156691  4.401728e+01    51.087453    9.989506   \n",
       "min      0.000000  1.020534e+06   117.000000   20.000000   \n",
       "25%     37.000000  1.020571e+06   214.000000   41.000000   \n",
       "50%     74.000000  1.020608e+06   244.000000   47.000000   \n",
       "75%    111.000000  1.020647e+06   273.000000   56.000000   \n",
       "max    148.000000  1.020684e+06   376.000000   75.000000   \n",
       "\n",
       "       FirstForeignLanguage  DiscreteMath     History   Geography  Philosophy  \\\n",
       "count            149.000000    149.000000  149.000000  149.000000  149.000000   \n",
       "mean              30.234899     30.618182   32.454545   33.757576   42.984848   \n",
       "std                8.658217      7.396576    6.959518    4.821210    5.397062   \n",
       "min               11.000000     10.000000   10.000000   14.000000   17.000000   \n",
       "25%               25.000000     30.618182   32.454545   33.757576   42.984848   \n",
       "50%               28.000000     30.618182   32.454545   33.757576   42.984848   \n",
       "75%               37.000000     30.618182   32.454545   33.757576   42.984848   \n",
       "max               49.000000     57.000000   57.000000   51.000000   59.000000   \n",
       "\n",
       "          ElmNafs   Chemistry     Biology     Giology  AppliedMath     Physics  \n",
       "count  149.000000  149.000000  149.000000  149.000000   149.000000  149.000000  \n",
       "mean    37.257576   33.325301   38.000000   44.857143    32.581818   31.457831  \n",
       "std      5.575417    6.856747    3.947288    3.800274     5.770019    7.938362  \n",
       "min     16.000000   15.000000   18.000000   25.000000    15.000000   11.000000  \n",
       "25%     37.257576   30.000000   38.000000   44.857143    32.581818   30.000000  \n",
       "50%     37.257576   33.325301   38.000000   44.857143    32.581818   31.457831  \n",
       "75%     38.000000   33.325301   38.000000   44.857143    32.581818   31.457831  \n",
       "max     50.000000   56.000000   55.000000   59.000000    56.000000   59.000000  "
      ]
     },
     "execution_count": 40,
     "metadata": {},
     "output_type": "execute_result"
    }
   ],
   "source": [
    "df.describe()"
   ]
  },
  {
   "cell_type": "code",
   "execution_count": 46,
   "id": "ca26d3fe",
   "metadata": {},
   "outputs": [],
   "source": [
    "def graphType(attr1, attr2):\n",
    "    plot1 = best.plot.bar(x=attr1, y=attr2);\n",
    "    return plot1\n",
    "    "
   ]
  },
  {
   "cell_type": "code",
   "execution_count": 47,
   "id": "76423fdd",
   "metadata": {},
   "outputs": [
    {
     "data": {
      "image/png": "[encoded data removed]",
      "text/plain": [
       "<Figure size 1008x576 with 1 Axes>"
      ]
     },
     "metadata": {
      "needs_background": "light"
     },
     "output_type": "display_data"
    }
   ],
   "source": [
    "plt.figure(figsize=[14,8])\n",
    "df['TotalGrades'].hist();"
   ]
  },
  {
   "cell_type": "markdown",
   "id": "2b1a0084",
   "metadata": {},
   "source": [
    "### Q1 : How many students are in each major?"
   ]
  },
  {
   "cell_type": "code",
   "execution_count": 48,
   "id": "2395262a",
   "metadata": {},
   "outputs": [
    {
     "data": {
      "text/plain": [
       "أدبي          66\n",
       "علمي رياضة    55\n",
       "علمي علوم     28\n",
       "Name: Department, dtype: int64"
      ]
     },
     "execution_count": 48,
     "metadata": {},
     "output_type": "execute_result"
    }
   ],
   "source": [
    "df['Department'].value_counts()"
   ]
  },
  {
   "cell_type": "code",
   "execution_count": 49,
   "id": "9b38873f",
   "metadata": {},
   "outputs": [
    {
     "data": {
      "image/png": "[encoded data removed]",
      "text/plain": [
       "<Figure size 432x288 with 1 Axes>"
      ]
     },
     "metadata": {},
     "output_type": "display_data"
    }
   ],
   "source": [
    "plt.pie(x=df['Department'].value_counts(),labels=['literary','scientific','scientific-Math'],radius=2,autopct = '%1.1f%%',wedgeprops = {\"edgecolor\" : \"white\", 'linewidth': 3, 'antialiased': True});"
   ]
  },
  {
   "cell_type": "markdown",
   "id": "f8dd8c20",
   "metadata": {},
   "source": [
    "From the figure we have, we conclude that the percentage of students in literary majors is the largest group in the school"
   ]
  },
  {
   "cell_type": "markdown",
   "id": "1dfdc420",
   "metadata": {},
   "source": [
    "### Q2 : What are the top 10 e students got heighest marks in Physics?"
   ]
  },
  {
   "cell_type": "code",
   "execution_count": 50,
   "id": "963a8b88",
   "metadata": {},
   "outputs": [
    {
     "data": {
      "text/html": [
       "<div>\n",
       "<style scoped>\n",
       "    .dataframe tbody tr th:only-of-type {\n",
       "        vertical-align: middle;\n",
       "    }\n",
       "\n",
       "    .dataframe tbody tr th {\n",
       "        vertical-align: top;\n",
       "    }\n",
       "\n",
       "    .dataframe thead th {\n",
       "        text-align: right;\n",
       "    }\n",
       "</style>\n",
       "<table border=\"1\" class=\"dataframe\">\n",
       "  <thead>\n",
       "    <tr style=\"text-align: right;\">\n",
       "      <th></th>\n",
       "      <th>TotalGrades</th>\n",
       "      <th>Name</th>\n",
       "    </tr>\n",
       "  </thead>\n",
       "  <tbody>\n",
       "    <tr>\n",
       "      <th>35</th>\n",
       "      <td>376.0</td>\n",
       "      <td>مريم منير وهبه عطى</td>\n",
       "    </tr>\n",
       "    <tr>\n",
       "      <th>11</th>\n",
       "      <td>369.0</td>\n",
       "      <td>اروى صلاح الدين عبد التواب عبد المجيد</td>\n",
       "    </tr>\n",
       "    <tr>\n",
       "      <th>28</th>\n",
       "      <td>360.0</td>\n",
       "      <td>الاء احمد محمد عبد العزيز</td>\n",
       "    </tr>\n",
       "    <tr>\n",
       "      <th>67</th>\n",
       "      <td>352.0</td>\n",
       "      <td>نورا احمد محمد صلاح الدين على</td>\n",
       "    </tr>\n",
       "    <tr>\n",
       "      <th>96</th>\n",
       "      <td>348.0</td>\n",
       "      <td>ثريا طارق ابراهيم عطيه خالد</td>\n",
       "    </tr>\n",
       "    <tr>\n",
       "      <th>125</th>\n",
       "      <td>347.0</td>\n",
       "      <td>شهد محمد سعيد الفاضى</td>\n",
       "    </tr>\n",
       "    <tr>\n",
       "      <th>1</th>\n",
       "      <td>342.0</td>\n",
       "      <td>علا جمال احمد حسين</td>\n",
       "    </tr>\n",
       "    <tr>\n",
       "      <th>42</th>\n",
       "      <td>341.0</td>\n",
       "      <td>ايه صبحى ربيع الدسوقى شاهين</td>\n",
       "    </tr>\n",
       "    <tr>\n",
       "      <th>18</th>\n",
       "      <td>336.0</td>\n",
       "      <td>شيماء صلاح الدين حسين احمد</td>\n",
       "    </tr>\n",
       "    <tr>\n",
       "      <th>12</th>\n",
       "      <td>334.0</td>\n",
       "      <td>اسراء صلاح والى مصطفى</td>\n",
       "    </tr>\n",
       "  </tbody>\n",
       "</table>\n",
       "</div>"
      ],
      "text/plain": [
       "     TotalGrades                                   Name\n",
       "35         376.0                     مريم منير وهبه عطى\n",
       "11         369.0  اروى صلاح الدين عبد التواب عبد المجيد\n",
       "28         360.0              الاء احمد محمد عبد العزيز\n",
       "67         352.0          نورا احمد محمد صلاح الدين على\n",
       "96         348.0            ثريا طارق ابراهيم عطيه خالد\n",
       "125        347.0                   شهد محمد سعيد الفاضى\n",
       "1          342.0                     علا جمال احمد حسين\n",
       "42         341.0            ايه صبحى ربيع الدسوقى شاهين\n",
       "18         336.0             شيماء صلاح الدين حسين احمد\n",
       "12         334.0                  اسراء صلاح والى مصطفى"
      ]
     },
     "execution_count": 50,
     "metadata": {},
     "output_type": "execute_result"
    }
   ],
   "source": [
    "best = df[['TotalGrades', 'Name']].sort_values('TotalGrades', ascending=False)[:10]\n",
    "best\n"
   ]
  },
  {
   "cell_type": "code",
   "execution_count": 53,
   "id": "17f5c7cb",
   "metadata": {},
   "outputs": [
    {
     "data": {
      "text/plain": [
       "<AxesSubplot:xlabel='Name'>"
      ]
     },
     "execution_count": 53,
     "metadata": {},
     "output_type": "execute_result"
    },
    {
     "data": {
      "image/png": "[encoded data removed]",
      "text/plain": [
       "<Figure size 432x288 with 1 Axes>"
      ]
     },
     "metadata": {
      "needs_background": "light"
     },
     "output_type": "display_data"
    }
   ],
   "source": [
    "graphType('Name','TotalGrades')"
   ]
  },
  {
   "cell_type": "markdown",
   "id": "ccba1274",
   "metadata": {},
   "source": [
    "From the figure that appears to us, we can conclude that there are many students who obtained the same degree or full degree in the subject\n"
   ]
  },
  {
   "cell_type": "markdown",
   "id": "0dc4aa57",
   "metadata": {},
   "source": [
    "### Q3 : what is The status of the students ?\n"
   ]
  },
  {
   "cell_type": "code",
   "execution_count": 54,
   "id": "bf47d38f",
   "metadata": {},
   "outputs": [
    {
     "data": {
      "text/plain": [
       "ناجح        91\n",
       "دور ثاني    39\n",
       "راسب        19\n",
       "Name: Status, dtype: int64"
      ]
     },
     "execution_count": 54,
     "metadata": {},
     "output_type": "execute_result"
    }
   ],
   "source": [
    "df['Status'].value_counts()"
   ]
  },
  {
   "cell_type": "code",
   "execution_count": 55,
   "id": "0fe4fa5b",
   "metadata": {},
   "outputs": [
    {
     "data": {
      "image/png": "[encoded data removed]",
      "text/plain": [
       "<Figure size 432x288 with 1 Axes>"
      ]
     },
     "metadata": {},
     "output_type": "display_data"
    }
   ],
   "source": [
    "plt.pie(x=df['Status'].value_counts(),labels=['pass','Second League','fail'],radius=2,autopct = '%1.1f%%',wedgeprops = {\"edgecolor\" : \"white\", 'linewidth': 3, 'antialiased': True});"
   ]
  },
  {
   "cell_type": "markdown",
   "id": "715e8767",
   "metadata": {},
   "source": [
    "From the figure shown above, we can see the average status of all students, and we can conclude that the rate of successful students is very large"
   ]
  },
  {
   "cell_type": "code",
   "execution_count": 56,
   "id": "939402a9",
   "metadata": {},
   "outputs": [
    {
     "data": {
      "text/plain": [
       "<AxesSubplot:>"
      ]
     },
     "execution_count": 56,
     "metadata": {},
     "output_type": "execute_result"
    },
    {
     "data": {
      "image/png": "[encoded data removed]",
      "text/plain": [
       "<Figure size 432x288 with 1 Axes>"
      ]
     },
     "metadata": {
      "needs_background": "light"
     },
     "output_type": "display_data"
    }
   ],
   "source": [
    "line = df['Status'].value_counts()\n",
    "line.plot.line()"
   ]
  },
  {
   "cell_type": "markdown",
   "id": "0ec85f11",
   "metadata": {},
   "source": [
    "From the figure shown above, we can see the status indicator of all students, and we can conclude that the rate of students who fail is declining"
   ]
  },
  {
   "cell_type": "markdown",
   "id": "6c9e45d3",
   "metadata": {},
   "source": [
    "### Evaluation"
   ]
  },
  {
   "cell_type": "markdown",
   "id": "c24f31c6",
   "metadata": {},
   "source": [
    "Students with Literary major they are the largest group in the school. so i decided to choose one subject form the Science major to see how the student doing and I found that they are doing well, also I found that the average of successful is too high. and my advice to the school to make there fox to Science major and give it more support."
   ]
  }
 ],
 "metadata": {
  "kernelspec": {
   "display_name": "Python 3",
   "language": "python",
   "name": "python3"
  },
  "language_info": {
   "codemirror_mode": {
    "name": "ipython",
    "version": 3
   },
   "file_extension": ".py",
   "mimetype": "text/x-python",
   "name": "python",
   "nbconvert_exporter": "python",
   "pygments_lexer": "ipython3",
   "version": "3.8.8"
  }
 },
 "nbformat": 4,
 "nbformat_minor": 5
}
