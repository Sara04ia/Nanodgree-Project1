{
 "cells": [
  {
   "cell_type": "markdown",
   "id": "33959adc",
   "metadata": {},
   "source": [
    "# Project: Write a Data Science Blog Post\n",
    "## Section one : Goals Understanding \n",
    "My Project is Egypt High School Grades and here are the Questions that i will answer : \n",
    "### Q1 : How many students are in each major?\n",
    "### Q2 : What are the top 10 e students got heighest marks in Physics?\n",
    "### Q3 : what is The status of the students ? "
   ]
  },
  {
   "cell_type": "code",
   "execution_count": 2,
   "id": "5cfed9ea",
   "metadata": {},
   "outputs": [],
   "source": [
    "#import libraries\n",
    "import pandas as pd\n",
    "import matplotlib.pyplot as plt\n",
    "%matplotlib inline\n",
    "import plotly.express as px"
   ]
  },
  {
   "cell_type": "markdown",
   "id": "b00a2337",
   "metadata": {},
   "source": [
    "## Section Two : Understanding The data"
   ]
  },
  {
   "cell_type": "code",
   "execution_count": 3,
   "id": "b38968c6",
   "metadata": {},
   "outputs": [],
   "source": [
    "#import data\n",
    "df = pd.read_csv('students_data.csv')"
   ]
  },
  {
   "cell_type": "code",
   "execution_count": 4,
   "id": "36d5c550",
   "metadata": {},
   "outputs": [
    {
     "data": {
      "text/plain": [
       "(109952, 26)"
      ]
     },
     "execution_count": 4,
     "metadata": {},
     "output_type": "execute_result"
    }
   ],
   "source": [
    "#to find numbers of rows and columns\n",
    "df.shape"
   ]
  },
  {
   "cell_type": "code",
   "execution_count": 5,
   "id": "71bc792c",
   "metadata": {},
   "outputs": [
    {
     "name": "stdout",
     "output_type": "stream",
     "text": [
      "<class 'pandas.core.frame.DataFrame'>\n",
      "RangeIndex: 109952 entries, 0 to 109951\n",
      "Data columns (total 26 columns):\n",
      " #   Column                 Non-Null Count   Dtype  \n",
      "---  ------                 --------------   -----  \n",
      " 0   Unnamed: 0             109952 non-null  int64  \n",
      " 1   SeatNumber             109952 non-null  int64  \n",
      " 2   TotalGrades            109952 non-null  float64\n",
      " 3   TotalPercentage        109952 non-null  object \n",
      " 4   Name                   109952 non-null  object \n",
      " 5   School                 109952 non-null  object \n",
      " 6   EducationZone          109952 non-null  object \n",
      " 7   Status                 109952 non-null  object \n",
      " 8   EductionType           109952 non-null  object \n",
      " 9   Department             109952 non-null  object \n",
      " 10  Arabic                 109952 non-null  object \n",
      " 11  FirstForeignLanguage   107432 non-null  object \n",
      " 12  SecondForeignLanguage  107432 non-null  object \n",
      " 13  DiscreteMath           19634 non-null   object \n",
      " 14  History                46614 non-null   object \n",
      " 15  Geography              46614 non-null   object \n",
      " 16  Philosophy             46614 non-null   object \n",
      " 17  ElmNafs                46614 non-null   object \n",
      " 18  Chemistry              60818 non-null   object \n",
      " 19  Biology                41184 non-null   object \n",
      " 20  Giology                41184 non-null   object \n",
      " 21  AppliedMath            19634 non-null   object \n",
      " 22  Physics                60818 non-null   object \n",
      " 23  Religion               109952 non-null  object \n",
      " 24  Watnya                 109952 non-null  object \n",
      " 25  Statistics             107434 non-null  object \n",
      "dtypes: float64(1), int64(2), object(23)\n",
      "memory usage: 21.8+ MB\n"
     ]
    }
   ],
   "source": [
    "df.info()"
   ]
  },
  {
   "cell_type": "code",
   "execution_count": 6,
   "id": "867bd111",
   "metadata": {},
   "outputs": [
    {
     "data": {
      "text/html": [
       "<div>\n",
       "<style scoped>\n",
       "    .dataframe tbody tr th:only-of-type {\n",
       "        vertical-align: middle;\n",
       "    }\n",
       "\n",
       "    .dataframe tbody tr th {\n",
       "        vertical-align: top;\n",
       "    }\n",
       "\n",
       "    .dataframe thead th {\n",
       "        text-align: right;\n",
       "    }\n",
       "</style>\n",
       "<table border=\"1\" class=\"dataframe\">\n",
       "  <thead>\n",
       "    <tr style=\"text-align: right;\">\n",
       "      <th></th>\n",
       "      <th>Unnamed: 0</th>\n",
       "      <th>SeatNumber</th>\n",
       "      <th>TotalGrades</th>\n",
       "      <th>TotalPercentage</th>\n",
       "      <th>Name</th>\n",
       "      <th>School</th>\n",
       "      <th>EducationZone</th>\n",
       "      <th>Status</th>\n",
       "      <th>EductionType</th>\n",
       "      <th>Department</th>\n",
       "      <th>...</th>\n",
       "      <th>Philosophy</th>\n",
       "      <th>ElmNafs</th>\n",
       "      <th>Chemistry</th>\n",
       "      <th>Biology</th>\n",
       "      <th>Giology</th>\n",
       "      <th>AppliedMath</th>\n",
       "      <th>Physics</th>\n",
       "      <th>Religion</th>\n",
       "      <th>Watnya</th>\n",
       "      <th>Statistics</th>\n",
       "    </tr>\n",
       "  </thead>\n",
       "  <tbody>\n",
       "    <tr>\n",
       "      <th>0</th>\n",
       "      <td>0</td>\n",
       "      <td>1020534</td>\n",
       "      <td>179.0</td>\n",
       "      <td>43.66 %</td>\n",
       "      <td>شهد محمود ابو العلا عواد</td>\n",
       "      <td>الاورمان ث بنات</td>\n",
       "      <td>الدقى</td>\n",
       "      <td>راسب</td>\n",
       "      <td>طلاب</td>\n",
       "      <td>علمي علوم</td>\n",
       "      <td>...</td>\n",
       "      <td>NaN</td>\n",
       "      <td>NaN</td>\n",
       "      <td>16</td>\n",
       "      <td>30</td>\n",
       "      <td>25</td>\n",
       "      <td>NaN</td>\n",
       "      <td>30</td>\n",
       "      <td>إجتياز</td>\n",
       "      <td>إجتياز</td>\n",
       "      <td>إجتياز</td>\n",
       "    </tr>\n",
       "  </tbody>\n",
       "</table>\n",
       "<p>1 rows × 26 columns</p>\n",
       "</div>"
      ],
      "text/plain": [
       "   Unnamed: 0  SeatNumber  TotalGrades TotalPercentage  \\\n",
       "0           0     1020534        179.0         43.66 %   \n",
       "\n",
       "                       Name           School EducationZone Status  \\\n",
       "0  شهد محمود ابو العلا عواد  الاورمان ث بنات         الدقى   راسب   \n",
       "\n",
       "  EductionType Department  ... Philosophy ElmNafs Chemistry Biology Giology  \\\n",
       "0         طلاب  علمي علوم  ...        NaN     NaN        16      30      25   \n",
       "\n",
       "  AppliedMath Physics Religion  Watnya Statistics  \n",
       "0         NaN      30   إجتياز  إجتياز     إجتياز  \n",
       "\n",
       "[1 rows x 26 columns]"
      ]
     },
     "execution_count": 6,
     "metadata": {},
     "output_type": "execute_result"
    }
   ],
   "source": [
    "df.head(1)"
   ]
  },
  {
   "cell_type": "markdown",
   "id": "e7dec965",
   "metadata": {},
   "source": [
    "## Section 3: Data prepration"
   ]
  },
  {
   "cell_type": "code",
   "execution_count": 7,
   "id": "b44a0b35",
   "metadata": {},
   "outputs": [
    {
     "data": {
      "text/plain": [
       "Unnamed: 0                   0\n",
       "SeatNumber                   0\n",
       "TotalGrades                  0\n",
       "TotalPercentage              0\n",
       "Name                         0\n",
       "School                       0\n",
       "EducationZone                0\n",
       "Status                       0\n",
       "EductionType                 0\n",
       "Department                   0\n",
       "Arabic                       0\n",
       "FirstForeignLanguage      2520\n",
       "SecondForeignLanguage     2520\n",
       "DiscreteMath             90318\n",
       "History                  63338\n",
       "Geography                63338\n",
       "Philosophy               63338\n",
       "ElmNafs                  63338\n",
       "Chemistry                49134\n",
       "Biology                  68768\n",
       "Giology                  68768\n",
       "AppliedMath              90318\n",
       "Physics                  49134\n",
       "Religion                     0\n",
       "Watnya                       0\n",
       "Statistics                2518\n",
       "dtype: int64"
      ]
     },
     "execution_count": 7,
     "metadata": {},
     "output_type": "execute_result"
    }
   ],
   "source": [
    "#to see if there is any missing values\n",
    "df.isna().sum()"
   ]
  },
  {
   "cell_type": "code",
   "execution_count": 8,
   "id": "5f085ee0",
   "metadata": {},
   "outputs": [],
   "source": [
    "df = df.dropna()"
   ]
  },
  {
   "cell_type": "code",
   "execution_count": 9,
   "id": "987a6dcb",
   "metadata": {},
   "outputs": [
    {
     "data": {
      "text/plain": [
       "Unnamed: 0               0.0\n",
       "SeatNumber               0.0\n",
       "TotalGrades              0.0\n",
       "TotalPercentage          0.0\n",
       "Name                     0.0\n",
       "School                   0.0\n",
       "EducationZone            0.0\n",
       "Status                   0.0\n",
       "EductionType             0.0\n",
       "Department               0.0\n",
       "Arabic                   0.0\n",
       "FirstForeignLanguage     0.0\n",
       "SecondForeignLanguage    0.0\n",
       "DiscreteMath             0.0\n",
       "History                  0.0\n",
       "Geography                0.0\n",
       "Philosophy               0.0\n",
       "ElmNafs                  0.0\n",
       "Chemistry                0.0\n",
       "Biology                  0.0\n",
       "Giology                  0.0\n",
       "AppliedMath              0.0\n",
       "Physics                  0.0\n",
       "Religion                 0.0\n",
       "Watnya                   0.0\n",
       "Statistics               0.0\n",
       "dtype: float64"
      ]
     },
     "execution_count": 9,
     "metadata": {},
     "output_type": "execute_result"
    }
   ],
   "source": [
    "df.isna().sum()"
   ]
  },
  {
   "cell_type": "code",
   "execution_count": 24,
   "id": "221675ce",
   "metadata": {},
   "outputs": [
    {
     "data": {
      "text/plain": [
       "0"
      ]
     },
     "execution_count": 24,
     "metadata": {},
     "output_type": "execute_result"
    }
   ],
   "source": [
    "sum(df.duplicated())"
   ]
  },
  {
   "cell_type": "code",
   "execution_count": 25,
   "id": "1e140cef",
   "metadata": {},
   "outputs": [
    {
     "data": {
      "text/html": [
       "<div>\n",
       "<style scoped>\n",
       "    .dataframe tbody tr th:only-of-type {\n",
       "        vertical-align: middle;\n",
       "    }\n",
       "\n",
       "    .dataframe tbody tr th {\n",
       "        vertical-align: top;\n",
       "    }\n",
       "\n",
       "    .dataframe thead th {\n",
       "        text-align: right;\n",
       "    }\n",
       "</style>\n",
       "<table border=\"1\" class=\"dataframe\">\n",
       "  <thead>\n",
       "    <tr style=\"text-align: right;\">\n",
       "      <th></th>\n",
       "      <th>Unnamed: 0</th>\n",
       "      <th>SeatNumber</th>\n",
       "      <th>TotalGrades</th>\n",
       "    </tr>\n",
       "  </thead>\n",
       "  <tbody>\n",
       "    <tr>\n",
       "      <th>count</th>\n",
       "      <td>109952.000000</td>\n",
       "      <td>1.099520e+05</td>\n",
       "      <td>109952.000000</td>\n",
       "    </tr>\n",
       "    <tr>\n",
       "      <th>mean</th>\n",
       "      <td>54975.500000</td>\n",
       "      <td>1.076049e+06</td>\n",
       "      <td>243.903935</td>\n",
       "    </tr>\n",
       "    <tr>\n",
       "      <th>std</th>\n",
       "      <td>31740.552736</td>\n",
       "      <td>3.992402e+04</td>\n",
       "      <td>68.598658</td>\n",
       "    </tr>\n",
       "    <tr>\n",
       "      <th>min</th>\n",
       "      <td>0.000000</td>\n",
       "      <td>1.010532e+06</td>\n",
       "      <td>0.000000</td>\n",
       "    </tr>\n",
       "    <tr>\n",
       "      <th>25%</th>\n",
       "      <td>27487.750000</td>\n",
       "      <td>1.042108e+06</td>\n",
       "      <td>206.500000</td>\n",
       "    </tr>\n",
       "    <tr>\n",
       "      <th>50%</th>\n",
       "      <td>54975.500000</td>\n",
       "      <td>1.072212e+06</td>\n",
       "      <td>245.000000</td>\n",
       "    </tr>\n",
       "    <tr>\n",
       "      <th>75%</th>\n",
       "      <td>82463.250000</td>\n",
       "      <td>1.115243e+06</td>\n",
       "      <td>288.000000</td>\n",
       "    </tr>\n",
       "    <tr>\n",
       "      <th>max</th>\n",
       "      <td>109951.000000</td>\n",
       "      <td>1.145533e+06</td>\n",
       "      <td>404.000000</td>\n",
       "    </tr>\n",
       "  </tbody>\n",
       "</table>\n",
       "</div>"
      ],
      "text/plain": [
       "          Unnamed: 0    SeatNumber    TotalGrades\n",
       "count  109952.000000  1.099520e+05  109952.000000\n",
       "mean    54975.500000  1.076049e+06     243.903935\n",
       "std     31740.552736  3.992402e+04      68.598658\n",
       "min         0.000000  1.010532e+06       0.000000\n",
       "25%     27487.750000  1.042108e+06     206.500000\n",
       "50%     54975.500000  1.072212e+06     245.000000\n",
       "75%     82463.250000  1.115243e+06     288.000000\n",
       "max    109951.000000  1.145533e+06     404.000000"
      ]
     },
     "execution_count": 25,
     "metadata": {},
     "output_type": "execute_result"
    }
   ],
   "source": [
    "df.describe()"
   ]
  },
  {
   "cell_type": "code",
   "execution_count": 26,
   "id": "76423fdd",
   "metadata": {},
   "outputs": [
    {
     "data": {
      "image/png": "[encoded data removed]",
      "text/plain": [
       "<Figure size 1008x576 with 1 Axes>"
      ]
     },
     "metadata": {
      "needs_background": "light"
     },
     "output_type": "display_data"
    }
   ],
   "source": [
    "plt.figure(figsize=[14,8])\n",
    "df['TotalGrades'].hist();"
   ]
  },
  {
   "cell_type": "markdown",
   "id": "2b1a0084",
   "metadata": {},
   "source": [
    "### Q1 : How many students are in each major?"
   ]
  },
  {
   "cell_type": "code",
   "execution_count": 27,
   "id": "2395262a",
   "metadata": {},
   "outputs": [
    {
     "data": {
      "text/plain": [
       "أدبي          46613\n",
       "علمي علوم     41184\n",
       "علمي رياضة    19634\n",
       "غير محدد       2521\n",
       "Name: Department, dtype: int64"
      ]
     },
     "execution_count": 27,
     "metadata": {},
     "output_type": "execute_result"
    }
   ],
   "source": [
    "df['Department'].value_counts()"
   ]
  },
  {
   "cell_type": "code",
   "execution_count": 28,
   "id": "9b38873f",
   "metadata": {},
   "outputs": [
    {
     "data": {
      "image/png": "[encoded data removed]",
      "text/plain": [
       "<Figure size 432x288 with 1 Axes>"
      ]
     },
     "metadata": {},
     "output_type": "display_data"
    }
   ],
   "source": [
    "plt.pie(x=df['Department'].value_counts(),labels=['literary','scientific','scientific-Math','Others'],radius=2,autopct = '%1.1f%%',wedgeprops = {\"edgecolor\" : \"white\", 'linewidth': 3, 'antialiased': True});"
   ]
  },
  {
   "cell_type": "markdown",
   "id": "f8dd8c20",
   "metadata": {},
   "source": [
    "From the figure we have, we conclude that the percentage of students in literary majors is the largest group in the school"
   ]
  },
  {
   "cell_type": "markdown",
   "id": "1dfdc420",
   "metadata": {},
   "source": [
    "### Q2 : What are the top 10 e students got heighest marks in Physics?"
   ]
  },
  {
   "cell_type": "code",
   "execution_count": 29,
   "id": "963a8b88",
   "metadata": {},
   "outputs": [
    {
     "data": {
      "text/html": [
       "<div>\n",
       "<style scoped>\n",
       "    .dataframe tbody tr th:only-of-type {\n",
       "        vertical-align: middle;\n",
       "    }\n",
       "\n",
       "    .dataframe tbody tr th {\n",
       "        vertical-align: top;\n",
       "    }\n",
       "\n",
       "    .dataframe thead th {\n",
       "        text-align: right;\n",
       "    }\n",
       "</style>\n",
       "<table border=\"1\" class=\"dataframe\">\n",
       "  <thead>\n",
       "    <tr style=\"text-align: right;\">\n",
       "      <th></th>\n",
       "      <th>TotalGrades</th>\n",
       "      <th>Name</th>\n",
       "    </tr>\n",
       "  </thead>\n",
       "  <tbody>\n",
       "    <tr>\n",
       "      <th>56625</th>\n",
       "      <td>404.0</td>\n",
       "      <td>عز الدين طارق عز الدين محمد مراد</td>\n",
       "    </tr>\n",
       "    <tr>\n",
       "      <th>60373</th>\n",
       "      <td>403.5</td>\n",
       "      <td>احمد محمد سعيد هاشم</td>\n",
       "    </tr>\n",
       "    <tr>\n",
       "      <th>62309</th>\n",
       "      <td>403.0</td>\n",
       "      <td>هند جمعه عبد الرازق عبد الحميد</td>\n",
       "    </tr>\n",
       "    <tr>\n",
       "      <th>60618</th>\n",
       "      <td>402.0</td>\n",
       "      <td>مصطفى عيد سيد عبد السلام</td>\n",
       "    </tr>\n",
       "    <tr>\n",
       "      <th>61988</th>\n",
       "      <td>402.0</td>\n",
       "      <td>احمد هاشم سرحان عبد العال</td>\n",
       "    </tr>\n",
       "    <tr>\n",
       "      <th>42890</th>\n",
       "      <td>402.0</td>\n",
       "      <td>خديجه حماد شعبان عبد الجواد</td>\n",
       "    </tr>\n",
       "    <tr>\n",
       "      <th>61818</th>\n",
       "      <td>401.5</td>\n",
       "      <td>مصطفى محمد احمد عبد العظيم</td>\n",
       "    </tr>\n",
       "    <tr>\n",
       "      <th>56612</th>\n",
       "      <td>401.0</td>\n",
       "      <td>باسل خالد بهى اسماعيل حسن</td>\n",
       "    </tr>\n",
       "    <tr>\n",
       "      <th>56635</th>\n",
       "      <td>401.0</td>\n",
       "      <td>محمد اشرف محمد محمد</td>\n",
       "    </tr>\n",
       "    <tr>\n",
       "      <th>56700</th>\n",
       "      <td>401.0</td>\n",
       "      <td>سيف جمال اسماعيل مصطفى</td>\n",
       "    </tr>\n",
       "  </tbody>\n",
       "</table>\n",
       "</div>"
      ],
      "text/plain": [
       "       TotalGrades                              Name\n",
       "56625        404.0  عز الدين طارق عز الدين محمد مراد\n",
       "60373        403.5               احمد محمد سعيد هاشم\n",
       "62309        403.0    هند جمعه عبد الرازق عبد الحميد\n",
       "60618        402.0          مصطفى عيد سيد عبد السلام\n",
       "61988        402.0         احمد هاشم سرحان عبد العال\n",
       "42890        402.0       خديجه حماد شعبان عبد الجواد\n",
       "61818        401.5        مصطفى محمد احمد عبد العظيم\n",
       "56612        401.0         باسل خالد بهى اسماعيل حسن\n",
       "56635        401.0               محمد اشرف محمد محمد\n",
       "56700        401.0            سيف جمال اسماعيل مصطفى"
      ]
     },
     "execution_count": 29,
     "metadata": {},
     "output_type": "execute_result"
    }
   ],
   "source": [
    "best = df[['TotalGrades', 'Name']].sort_values('TotalGrades', ascending=False)[:10]\n",
    "best\n"
   ]
  },
  {
   "cell_type": "code",
   "execution_count": 30,
   "id": "17f5c7cb",
   "metadata": {},
   "outputs": [
    {
     "data": {
      "image/png": "[encoded data removed]",
      "text/plain": [
       "<Figure size 432x288 with 1 Axes>"
      ]
     },
     "metadata": {
      "needs_background": "light"
     },
     "output_type": "display_data"
    }
   ],
   "source": [
    "best.plot.bar(x='Name', y='TotalGrades');"
   ]
  },
  {
   "cell_type": "markdown",
   "id": "ccba1274",
   "metadata": {},
   "source": [
    "From the figure that appears to us, we can conclude that there are many students who obtained the same degree or full degree in the subject\n"
   ]
  },
  {
   "cell_type": "markdown",
   "id": "0dc4aa57",
   "metadata": {},
   "source": [
    "### Q3 : what is The status of the students ?\n"
   ]
  },
  {
   "cell_type": "code",
   "execution_count": 31,
   "id": "bf47d38f",
   "metadata": {},
   "outputs": [
    {
     "data": {
      "text/plain": [
       "ناجح        66003\n",
       "دور ثاني    29552\n",
       "راسب        14397\n",
       "Name: Status, dtype: int64"
      ]
     },
     "execution_count": 31,
     "metadata": {},
     "output_type": "execute_result"
    }
   ],
   "source": [
    "df['Status'].value_counts()"
   ]
  },
  {
   "cell_type": "code",
   "execution_count": 32,
   "id": "0fe4fa5b",
   "metadata": {},
   "outputs": [
    {
     "data": {
      "image/png": "[encoded data removed]",
      "text/plain": [
       "<Figure size 432x288 with 1 Axes>"
      ]
     },
     "metadata": {},
     "output_type": "display_data"
    }
   ],
   "source": [
    "plt.pie(x=df['Status'].value_counts(),labels=['pass','Second League','fail'],radius=2,autopct = '%1.1f%%',wedgeprops = {\"edgecolor\" : \"white\", 'linewidth': 3, 'antialiased': True});"
   ]
  },
  {
   "cell_type": "markdown",
   "id": "715e8767",
   "metadata": {},
   "source": [
    "From the figure shown above, we can see the average status of all students, and we can conclude that the rate of successful students is very large"
   ]
  },
  {
   "cell_type": "code",
   "execution_count": 33,
   "id": "939402a9",
   "metadata": {},
   "outputs": [
    {
     "data": {
      "text/plain": [
       "<AxesSubplot:>"
      ]
     },
     "execution_count": 33,
     "metadata": {},
     "output_type": "execute_result"
    },
    {
     "data": {
      "image/png": "[encoded data removed]",
      "text/plain": [
       "<Figure size 432x288 with 1 Axes>"
      ]
     },
     "metadata": {
      "needs_background": "light"
     },
     "output_type": "display_data"
    }
   ],
   "source": [
    "line = df['Status'].value_counts()\n",
    "line.plot.line()"
   ]
  },
  {
   "cell_type": "markdown",
   "id": "0ec85f11",
   "metadata": {},
   "source": [
    "From the figure shown above, we can see the status indicator of all students, and we can conclude that the rate of students who fail is declining"
   ]
  },
  {
   "cell_type": "markdown",
   "id": "6c9e45d3",
   "metadata": {},
   "source": [
    "### Evaluation"
   ]
  },
  {
   "cell_type": "markdown",
   "id": "c24f31c6",
   "metadata": {},
   "source": [
    "Students with Literary major they are the largest group in the school. so i decided to choose one subject form the Science major to see how the student doing and I found that they are doing well, also I found that the average of successful is too high. and my advice to the school to make there fox to Science major and give it more support."
   ]
  }
 ],
 "metadata": {
  "kernelspec": {
   "display_name": "Python 3",
   "language": "python",
   "name": "python3"
  },
  "language_info": {
   "codemirror_mode": {
    "name": "ipython",
    "version": 3
   },
   "file_extension": ".py",
   "mimetype": "text/x-python",
   "name": "python",
   "nbconvert_exporter": "python",
   "pygments_lexer": "ipython3",
   "version": "3.8.8"
  }
 },
 "nbformat": 4,
 "nbformat_minor": 5
}
